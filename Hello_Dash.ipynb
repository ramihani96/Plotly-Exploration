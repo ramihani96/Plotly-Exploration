{
 "cells": [
  {
   "cell_type": "code",
   "execution_count": 5,
   "id": "quarterly-rainbow",
   "metadata": {},
   "outputs": [],
   "source": [
    "from jupyter_dash import JupyterDash\n",
    "import dash_html_components as html\n",
    "import dash_core_components as dcc\n",
    "from dash.dependencies import Input, Output\n",
    "import plotly.express as px\n",
    "import plotly.io as pio\n",
    "\n",
    "# Used i_frame_connected to display interactive figures inside the notebook\n",
    "pio.renderers.default = 'iframe_connected'"
   ]
  },
  {
   "cell_type": "code",
   "execution_count": 6,
   "id": "handed-absolute",
   "metadata": {},
   "outputs": [
    {
     "name": "stderr",
     "output_type": "stream",
     "text": [
      "C:\\Users\\Rami\\anaconda3\\lib\\site-packages\\jupyter_dash\\jupyter_app.py:139: UserWarning:\n",
      "\n",
      "The 'environ['werkzeug.server.shutdown']' function is deprecated and will be removed in Werkzeug 2.1.\n",
      "\n"
     ]
    }
   ],
   "source": [
    "df = px.data.gapminder()\n",
    "app = JupyterDash(__name__)\n",
    "\n",
    "app.layout = html.Div(children = [\n",
    "  dcc.Dropdown(id=\"year\", value=2007, clearable=False,\n",
    "    options=[{\"label\": y, \"value\": y} for y in df['year'].unique()]),\n",
    "  dcc.Graph(id=\"graph\", figure={})\n",
    "])\n",
    "\n",
    "@app.callback(Output('graph', 'figure'), Input('year', 'value'))\n",
    "def cb(year):\n",
    "    df_year = df.query(\"year == @year\")\n",
    "    return px.scatter(df_year, x=\"gdpPercap\", y=\"lifeExp\", size=\"pop\",\n",
    "          log_x=True, size_max=60, hover_name=\"country\", height=400)\n",
    "\n",
    "app.run_server(mode=\"jupyterlab\")"
   ]
  },
  {
   "cell_type": "code",
   "execution_count": null,
   "id": "minor-logan",
   "metadata": {},
   "outputs": [],
   "source": []
  }
 ],
 "metadata": {
  "kernelspec": {
   "display_name": "Python 3",
   "language": "python",
   "name": "python3"
  },
  "language_info": {
   "codemirror_mode": {
    "name": "ipython",
    "version": 3
   },
   "file_extension": ".py",
   "mimetype": "text/x-python",
   "name": "python",
   "nbconvert_exporter": "python",
   "pygments_lexer": "ipython3",
   "version": "3.8.5"
  }
 },
 "nbformat": 4,
 "nbformat_minor": 5
}
