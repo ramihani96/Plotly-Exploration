{
 "cells": [
  {
   "cell_type": "code",
   "execution_count": 40,
   "id": "harmful-tactics",
   "metadata": {},
   "outputs": [],
   "source": [
    "import plotly.express as px\n",
    "import plotly.io as pio\n",
    "\n",
    "# Used i_frame_connected to display interactive figures inside the notebook\n",
    "pio.renderers.default = 'iframe_connected'"
   ]
  },
  {
   "cell_type": "markdown",
   "id": "express-thread",
   "metadata": {},
   "source": [
    "## Getting Data"
   ]
  },
  {
   "cell_type": "code",
   "execution_count": 66,
   "id": "collaborative-variable",
   "metadata": {},
   "outputs": [
    {
     "data": {
      "text/html": [
       "<div>\n",
       "<style scoped>\n",
       "    .dataframe tbody tr th:only-of-type {\n",
       "        vertical-align: middle;\n",
       "    }\n",
       "\n",
       "    .dataframe tbody tr th {\n",
       "        vertical-align: top;\n",
       "    }\n",
       "\n",
       "    .dataframe thead th {\n",
       "        text-align: right;\n",
       "    }\n",
       "</style>\n",
       "<table border=\"1\" class=\"dataframe\">\n",
       "  <thead>\n",
       "    <tr style=\"text-align: right;\">\n",
       "      <th></th>\n",
       "      <th>country</th>\n",
       "      <th>continent</th>\n",
       "      <th>year</th>\n",
       "      <th>lifeExp</th>\n",
       "      <th>pop</th>\n",
       "      <th>gdpPercap</th>\n",
       "      <th>iso_alpha</th>\n",
       "      <th>iso_num</th>\n",
       "    </tr>\n",
       "  </thead>\n",
       "  <tbody>\n",
       "    <tr>\n",
       "      <th>11</th>\n",
       "      <td>Afghanistan</td>\n",
       "      <td>Asia</td>\n",
       "      <td>2007</td>\n",
       "      <td>43.828</td>\n",
       "      <td>31889923</td>\n",
       "      <td>974.580338</td>\n",
       "      <td>AFG</td>\n",
       "      <td>4</td>\n",
       "    </tr>\n",
       "    <tr>\n",
       "      <th>23</th>\n",
       "      <td>Albania</td>\n",
       "      <td>Europe</td>\n",
       "      <td>2007</td>\n",
       "      <td>76.423</td>\n",
       "      <td>3600523</td>\n",
       "      <td>5937.029526</td>\n",
       "      <td>ALB</td>\n",
       "      <td>8</td>\n",
       "    </tr>\n",
       "    <tr>\n",
       "      <th>35</th>\n",
       "      <td>Algeria</td>\n",
       "      <td>Africa</td>\n",
       "      <td>2007</td>\n",
       "      <td>72.301</td>\n",
       "      <td>33333216</td>\n",
       "      <td>6223.367465</td>\n",
       "      <td>DZA</td>\n",
       "      <td>12</td>\n",
       "    </tr>\n",
       "    <tr>\n",
       "      <th>47</th>\n",
       "      <td>Angola</td>\n",
       "      <td>Africa</td>\n",
       "      <td>2007</td>\n",
       "      <td>42.731</td>\n",
       "      <td>12420476</td>\n",
       "      <td>4797.231267</td>\n",
       "      <td>AGO</td>\n",
       "      <td>24</td>\n",
       "    </tr>\n",
       "    <tr>\n",
       "      <th>59</th>\n",
       "      <td>Argentina</td>\n",
       "      <td>Americas</td>\n",
       "      <td>2007</td>\n",
       "      <td>75.320</td>\n",
       "      <td>40301927</td>\n",
       "      <td>12779.379640</td>\n",
       "      <td>ARG</td>\n",
       "      <td>32</td>\n",
       "    </tr>\n",
       "    <tr>\n",
       "      <th>...</th>\n",
       "      <td>...</td>\n",
       "      <td>...</td>\n",
       "      <td>...</td>\n",
       "      <td>...</td>\n",
       "      <td>...</td>\n",
       "      <td>...</td>\n",
       "      <td>...</td>\n",
       "      <td>...</td>\n",
       "    </tr>\n",
       "    <tr>\n",
       "      <th>1655</th>\n",
       "      <td>Vietnam</td>\n",
       "      <td>Asia</td>\n",
       "      <td>2007</td>\n",
       "      <td>74.249</td>\n",
       "      <td>85262356</td>\n",
       "      <td>2441.576404</td>\n",
       "      <td>VNM</td>\n",
       "      <td>704</td>\n",
       "    </tr>\n",
       "    <tr>\n",
       "      <th>1667</th>\n",
       "      <td>West Bank and Gaza</td>\n",
       "      <td>Asia</td>\n",
       "      <td>2007</td>\n",
       "      <td>73.422</td>\n",
       "      <td>4018332</td>\n",
       "      <td>3025.349798</td>\n",
       "      <td>PSE</td>\n",
       "      <td>275</td>\n",
       "    </tr>\n",
       "    <tr>\n",
       "      <th>1679</th>\n",
       "      <td>Yemen, Rep.</td>\n",
       "      <td>Asia</td>\n",
       "      <td>2007</td>\n",
       "      <td>62.698</td>\n",
       "      <td>22211743</td>\n",
       "      <td>2280.769906</td>\n",
       "      <td>YEM</td>\n",
       "      <td>887</td>\n",
       "    </tr>\n",
       "    <tr>\n",
       "      <th>1691</th>\n",
       "      <td>Zambia</td>\n",
       "      <td>Africa</td>\n",
       "      <td>2007</td>\n",
       "      <td>42.384</td>\n",
       "      <td>11746035</td>\n",
       "      <td>1271.211593</td>\n",
       "      <td>ZMB</td>\n",
       "      <td>894</td>\n",
       "    </tr>\n",
       "    <tr>\n",
       "      <th>1703</th>\n",
       "      <td>Zimbabwe</td>\n",
       "      <td>Africa</td>\n",
       "      <td>2007</td>\n",
       "      <td>43.487</td>\n",
       "      <td>12311143</td>\n",
       "      <td>469.709298</td>\n",
       "      <td>ZWE</td>\n",
       "      <td>716</td>\n",
       "    </tr>\n",
       "  </tbody>\n",
       "</table>\n",
       "<p>142 rows × 8 columns</p>\n",
       "</div>"
      ],
      "text/plain": [
       "                 country continent  year  lifeExp       pop     gdpPercap  \\\n",
       "11           Afghanistan      Asia  2007   43.828  31889923    974.580338   \n",
       "23               Albania    Europe  2007   76.423   3600523   5937.029526   \n",
       "35               Algeria    Africa  2007   72.301  33333216   6223.367465   \n",
       "47                Angola    Africa  2007   42.731  12420476   4797.231267   \n",
       "59             Argentina  Americas  2007   75.320  40301927  12779.379640   \n",
       "...                  ...       ...   ...      ...       ...           ...   \n",
       "1655             Vietnam      Asia  2007   74.249  85262356   2441.576404   \n",
       "1667  West Bank and Gaza      Asia  2007   73.422   4018332   3025.349798   \n",
       "1679         Yemen, Rep.      Asia  2007   62.698  22211743   2280.769906   \n",
       "1691              Zambia    Africa  2007   42.384  11746035   1271.211593   \n",
       "1703            Zimbabwe    Africa  2007   43.487  12311143    469.709298   \n",
       "\n",
       "     iso_alpha  iso_num  \n",
       "11         AFG        4  \n",
       "23         ALB        8  \n",
       "35         DZA       12  \n",
       "47         AGO       24  \n",
       "59         ARG       32  \n",
       "...        ...      ...  \n",
       "1655       VNM      704  \n",
       "1667       PSE      275  \n",
       "1679       YEM      887  \n",
       "1691       ZMB      894  \n",
       "1703       ZWE      716  \n",
       "\n",
       "[142 rows x 8 columns]"
      ]
     },
     "execution_count": 66,
     "metadata": {},
     "output_type": "execute_result"
    }
   ],
   "source": [
    "df = px.data.gapminder().query(\"year==2007\")\n",
    "df"
   ]
  },
  {
   "cell_type": "markdown",
   "id": "metropolitan-antarctica",
   "metadata": {},
   "source": [
    "## 1. Strip Plot"
   ]
  },
  {
   "cell_type": "code",
   "execution_count": 70,
   "id": "twelve-campaign",
   "metadata": {},
   "outputs": [
    {
     "data": {
      "text/html": [
       "<iframe\n",
       "    scrolling=\"no\"\n",
       "    width=\"100%\"\n",
       "    height=\"545px\"\n",
       "    src=\"iframe_figures/figure_70.html\"\n",
       "    frameborder=\"0\"\n",
       "    allowfullscreen\n",
       "></iframe>\n"
      ]
     },
     "metadata": {},
     "output_type": "display_data"
    }
   ],
   "source": [
    "px.strip(df, x=\"lifeExp\", hover_name=\"country\", color=\"continent\")"
   ]
  },
  {
   "cell_type": "markdown",
   "id": "speaking-morris",
   "metadata": {},
   "source": [
    "## 2. Histogram Plot"
   ]
  },
  {
   "cell_type": "code",
   "execution_count": 52,
   "id": "dried-actor",
   "metadata": {},
   "outputs": [
    {
     "data": {
      "text/html": [
       "<iframe\n",
       "    scrolling=\"no\"\n",
       "    width=\"100%\"\n",
       "    height=\"545px\"\n",
       "    src=\"iframe_figures/figure_52.html\"\n",
       "    frameborder=\"0\"\n",
       "    allowfullscreen\n",
       "></iframe>\n"
      ]
     },
     "metadata": {},
     "output_type": "display_data"
    }
   ],
   "source": [
    "px.histogram(df, x=\"lifeExp\", y='pop', hover_name=\"country\", color=\"continent\", \n",
    "                   facet_col='continent', marginal=\"rug\")"
   ]
  },
  {
   "cell_type": "markdown",
   "id": "aware-performance",
   "metadata": {},
   "source": [
    "## 3. Bar Plot"
   ]
  },
  {
   "cell_type": "code",
   "execution_count": 54,
   "id": "unknown-smoke",
   "metadata": {},
   "outputs": [
    {
     "data": {
      "text/html": [
       "<iframe\n",
       "    scrolling=\"no\"\n",
       "    width=\"100%\"\n",
       "    height=\"545px\"\n",
       "    src=\"iframe_figures/figure_54.html\"\n",
       "    frameborder=\"0\"\n",
       "    allowfullscreen\n",
       "></iframe>\n"
      ]
     },
     "metadata": {},
     "output_type": "display_data"
    }
   ],
   "source": [
    "px.bar(df, x=\"pop\", y='continent', hover_name=\"country\", color=\"lifeExp\")"
   ]
  },
  {
   "cell_type": "markdown",
   "id": "palestinian-harvard",
   "metadata": {},
   "source": [
    "## 4. Sunbrust Plot"
   ]
  },
  {
   "cell_type": "code",
   "execution_count": 55,
   "id": "atomic-nickel",
   "metadata": {},
   "outputs": [
    {
     "data": {
      "text/html": [
       "<iframe\n",
       "    scrolling=\"no\"\n",
       "    width=\"100%\"\n",
       "    height=\"520\"\n",
       "    src=\"iframe_figures/figure_55.html\"\n",
       "    frameborder=\"0\"\n",
       "    allowfullscreen\n",
       "></iframe>\n"
      ]
     },
     "metadata": {},
     "output_type": "display_data"
    }
   ],
   "source": [
    "px.sunburst(df, values=\"pop\", path=['continent','country'], hover_name=\"country\", color=\"lifeExp\", height=500)"
   ]
  },
  {
   "cell_type": "markdown",
   "id": "reliable-progressive",
   "metadata": {},
   "source": [
    "## 5. TreeMap Plot"
   ]
  },
  {
   "cell_type": "code",
   "execution_count": 56,
   "id": "decreased-library",
   "metadata": {},
   "outputs": [
    {
     "data": {
      "text/html": [
       "<iframe\n",
       "    scrolling=\"no\"\n",
       "    width=\"100%\"\n",
       "    height=\"520\"\n",
       "    src=\"iframe_figures/figure_56.html\"\n",
       "    frameborder=\"0\"\n",
       "    allowfullscreen\n",
       "></iframe>\n"
      ]
     },
     "metadata": {},
     "output_type": "display_data"
    }
   ],
   "source": [
    "px.treemap(df, values=\"pop\", path=['continent','country'], hover_name=\"country\", color=\"lifeExp\", height=500)"
   ]
  },
  {
   "cell_type": "markdown",
   "id": "solved-infection",
   "metadata": {},
   "source": [
    "## 6. Choropleth Plot"
   ]
  },
  {
   "cell_type": "code",
   "execution_count": 57,
   "id": "integral-briefs",
   "metadata": {},
   "outputs": [
    {
     "data": {
      "text/html": [
       "<iframe\n",
       "    scrolling=\"no\"\n",
       "    width=\"100%\"\n",
       "    height=\"520\"\n",
       "    src=\"iframe_figures/figure_57.html\"\n",
       "    frameborder=\"0\"\n",
       "    allowfullscreen\n",
       "></iframe>\n"
      ]
     },
     "metadata": {},
     "output_type": "display_data"
    }
   ],
   "source": [
    "px.choropleth(df, locations=\"iso_alpha\", hover_name=\"country\", color=\"lifeExp\", height=500)"
   ]
  },
  {
   "cell_type": "markdown",
   "id": "specific-relation",
   "metadata": {},
   "source": [
    "## 7. Scatter Plot"
   ]
  },
  {
   "cell_type": "code",
   "execution_count": 64,
   "id": "alone-target",
   "metadata": {},
   "outputs": [
    {
     "data": {
      "text/html": [
       "<iframe\n",
       "    scrolling=\"no\"\n",
       "    width=\"100%\"\n",
       "    height=\"520\"\n",
       "    src=\"iframe_figures/figure_64.html\"\n",
       "    frameborder=\"0\"\n",
       "    allowfullscreen\n",
       "></iframe>\n"
      ]
     },
     "metadata": {},
     "output_type": "display_data"
    }
   ],
   "source": [
    "px.scatter(df, x=\"gdpPercap\", y=\"lifeExp\", hover_name=\"country\", color=\"lifeExp\", height=500)"
   ]
  },
  {
   "cell_type": "code",
   "execution_count": 71,
   "id": "dying-conducting",
   "metadata": {},
   "outputs": [
    {
     "data": {
      "text/html": [
       "<iframe\n",
       "    scrolling=\"no\"\n",
       "    width=\"100%\"\n",
       "    height=\"520\"\n",
       "    src=\"iframe_figures/figure_71.html\"\n",
       "    frameborder=\"0\"\n",
       "    allowfullscreen\n",
       "></iframe>\n"
      ]
     },
     "metadata": {},
     "output_type": "display_data"
    }
   ],
   "source": [
    "px.scatter(df, x=\"gdpPercap\", y=\"lifeExp\", hover_name=\"country\", color=\"continent\",\n",
    "           size=\"pop\", size_max=60, log_x=True, height=500)"
   ]
  },
  {
   "cell_type": "markdown",
   "id": "worse-butter",
   "metadata": {},
   "source": [
    "## 8. Histogram Plot"
   ]
  }
 ],
 "metadata": {
  "kernelspec": {
   "display_name": "Python 3",
   "language": "python",
   "name": "python3"
  },
  "language_info": {
   "codemirror_mode": {
    "name": "ipython",
    "version": 3
   },
   "file_extension": ".py",
   "mimetype": "text/x-python",
   "name": "python",
   "nbconvert_exporter": "python",
   "pygments_lexer": "ipython3",
   "version": "3.8.5"
  }
 },
 "nbformat": 4,
 "nbformat_minor": 5
}
